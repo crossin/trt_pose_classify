{
 "cells": [
  {
   "cell_type": "code",
   "execution_count": 1,
   "metadata": {},
   "outputs": [],
   "source": [
    "import sklearn\n",
    "from torch2trt import TRTModule"
   ]
  },
  {
   "cell_type": "code",
   "execution_count": 2,
   "metadata": {},
   "outputs": [],
   "source": [
    "import json\n",
    "import cv2\n",
    "import matplotlib.pyplot as plt\n",
    "import matplotlib.image as mpimg \n",
    "import trt_pose.coco\n",
    "import math\n",
    "import os\n",
    "import numpy as np\n",
    "import traitlets\n",
    "import pickle \n"
   ]
  },
  {
   "cell_type": "code",
   "execution_count": 3,
   "metadata": {},
   "outputs": [
    {
     "name": "stdout",
     "output_type": "stream",
     "text": [
      "[05/04/2022-23:36:33] [TRT] [W] Using an engine plan file across different models of devices is not recommended and is likely to affect performance or even cause errors.\n"
     ]
    },
    {
     "data": {
      "text/plain": [
       "<All keys matched successfully>"
      ]
     },
     "execution_count": 3,
     "metadata": {},
     "output_type": "execute_result"
    }
   ],
   "source": [
    "with open('preprocess/human_pose.json', 'r') as f:\n",
    "    hand_pose = json.load(f)\n",
    "\n",
    "topology = trt_pose.coco.coco_category_to_topology(hand_pose)\n",
    "import trt_pose.models\n",
    "\n",
    "num_parts = len(hand_pose['keypoints'])\n",
    "num_links = len(hand_pose['skeleton'])\n",
    "\n",
    "model = trt_pose.models.resnet18_baseline_att(num_parts, 2 * num_links).cuda().eval()\n",
    "import torch\n",
    "\n",
    "\n",
    "WIDTH = 224\n",
    "HEIGHT = 224\n",
    "data = torch.zeros((1, 3, HEIGHT, WIDTH)).cuda()\n",
    "\n",
    "if not os.path.exists('model/resnet18_baseline_att_224x224_A_epoch_249_trt.pth'):\n",
    "    MODEL_WEIGHTS = 'model/resnet18_baseline_att_224x224_A_epoch_249.pth'\n",
    "    model.load_state_dict(torch.load(MODEL_WEIGHTS))\n",
    "    import torch2trt\n",
    "    model_trt = torch2trt.torch2trt(model, [data], fp16_mode=True, max_workspace_size=1<<25)\n",
    "    OPTIMIZED_MODEL = 'model/resnet18_baseline_att_224x224_A_epoch_249_trt.pth'\n",
    "    torch.save(model_trt.state_dict(), OPTIMIZED_MODEL)\n",
    "\n",
    "\n",
    "OPTIMIZED_MODEL = 'model/resnet18_baseline_att_224x224_A_epoch_249_trt.pth'\n",
    "\n",
    "\n",
    "model_trt = TRTModule()\n",
    "model_trt.load_state_dict(torch.load(OPTIMIZED_MODEL))"
   ]
  },
  {
   "cell_type": "code",
   "execution_count": 4,
   "metadata": {},
   "outputs": [],
   "source": [
    "from trt_pose.draw_objects import DrawObjects\n",
    "from trt_pose.parse_objects import ParseObjects\n",
    "\n",
    "parse_objects = ParseObjects(topology,cmap_threshold=0.12, link_threshold=0.15)\n",
    "draw_objects = DrawObjects(topology)"
   ]
  },
  {
   "cell_type": "code",
   "execution_count": 5,
   "metadata": {},
   "outputs": [],
   "source": [
    "\n",
    "import torchvision.transforms as transforms\n",
    "import PIL.Image\n",
    "\n",
    "mean = torch.Tensor([0.485, 0.456, 0.406]).cuda()\n",
    "std = torch.Tensor([0.229, 0.224, 0.225]).cuda()\n",
    "device = torch.device('cuda')\n",
    "\n",
    "def preprocess(image):\n",
    "    global device\n",
    "    device = torch.device('cuda')\n",
    "    image = cv2.cvtColor(image, cv2.COLOR_BGR2RGB)\n",
    "    image = PIL.Image.fromarray(image)\n",
    "    image = transforms.functional.to_tensor(image).to(device)\n",
    "    image.sub_(mean[:, None, None]).div_(std[:, None, None])\n",
    "    return image[None, ...]"
   ]
  },
  {
   "cell_type": "code",
   "execution_count": 6,
   "metadata": {},
   "outputs": [],
   "source": [
    "from sklearn.pipeline import make_pipeline\n",
    "from sklearn.preprocessing import StandardScaler\n",
    "from sklearn.svm import SVC\n",
    "clf = make_pipeline(StandardScaler(), SVC(gamma='auto', kernel='rbf'))"
   ]
  },
  {
   "cell_type": "code",
   "execution_count": 7,
   "metadata": {},
   "outputs": [],
   "source": [
    "from preprocessdata import preprocessdata\n",
    "preprocessdata = preprocessdata(topology, num_parts)"
   ]
  },
  {
   "cell_type": "code",
   "execution_count": 8,
   "metadata": {},
   "outputs": [],
   "source": [
    "svm_train = False\n",
    "if svm_train:\n",
    "    clf, predicted = preprocessdata.trainsvm(clf, joints_train, joints_test, hand.labels_train, hand.labels_test)\n",
    "    filename = 'svmmodel.sav'\n",
    "    pickle.dump(clf, open(filename, 'wb'))\n",
    "else:\n",
    "    filename = 'svmmodel_new.sav'\n",
    "    clf = pickle.load(open(filename, 'rb'))"
   ]
  },
  {
   "cell_type": "code",
   "execution_count": 9,
   "metadata": {},
   "outputs": [],
   "source": [
    "with open('preprocess/gesture_new.json', 'r') as f:\n",
    "    gesture = json.load(f)\n",
    "gesture_type = gesture[\"classes\"]\n"
   ]
  },
  {
   "cell_type": "code",
   "execution_count": 10,
   "metadata": {
    "scrolled": true
   },
   "outputs": [
    {
     "name": "stderr",
     "output_type": "stream",
     "text": [
      "[ WARN:0] global /home/ubuntu/build_opencv/opencv/modules/videoio/src/cap_gstreamer.cpp (1100) open OpenCV | GStreamer warning: Cannot query video position: status=0, value=-1, duration=-1\n"
     ]
    }
   ],
   "source": [
    "from jetcam.usb_camera import USBCamera\n",
    "from jetcam.csi_camera import CSICamera\n",
    "from jetcam.utils import bgr8_to_jpeg\n",
    "\n",
    "camera = USBCamera(width=WIDTH, height=HEIGHT, capture_fps=30, capture_device=0)\n",
    "#camera = CSICamera(width=WIDTH, height=HEIGHT, capture_fps=30)\n",
    "\n",
    "camera.running = True"
   ]
  },
  {
   "cell_type": "code",
   "execution_count": 11,
   "metadata": {},
   "outputs": [],
   "source": [
    "def draw_joints(image, joints):\n",
    "    count = 0\n",
    "    for i in joints:\n",
    "        if i==[0,0]:\n",
    "            count+=1\n",
    "    if count>= 3:\n",
    "        return \n",
    "    for i in joints:\n",
    "        cv2.circle(image, (i[0],i[1]), 2, (0,0,255), 1)\n",
    "    cv2.circle(image, (joints[0][0],joints[0][1]), 2, (255,0,255), 1)\n",
    "    for i in hand_pose['skeleton']:\n",
    "        if joints[i[0]-1][0]==0 or joints[i[1]-1][0] == 0:\n",
    "            break\n",
    "        cv2.line(image, (joints[i[0]-1][0],joints[i[0]-1][1]), (joints[i[1]-1][0],joints[i[1]-1][1]), (0,255,0), 1)"
   ]
  },
  {
   "cell_type": "code",
   "execution_count": 12,
   "metadata": {},
   "outputs": [
    {
     "data": {
      "application/vnd.jupyter.widget-view+json": {
       "model_id": "0b710e5618fa4d269976bea0006ca670",
       "version_major": 2,
       "version_minor": 0
      },
      "text/plain": [
       "Image(value=b'', format='jpeg', height='224', width='224')"
      ]
     },
     "metadata": {},
     "output_type": "display_data"
    }
   ],
   "source": [
    "import ipywidgets\n",
    "from IPython.display import display\n",
    "\n",
    "\n",
    "image_w = ipywidgets.Image(format='jpeg', width=224, height=224)\n",
    "display(image_w)"
   ]
  },
  {
   "cell_type": "code",
   "execution_count": 13,
   "metadata": {},
   "outputs": [],
   "source": [
    "from pynput.keyboard import Key, Controller\n",
    "\n",
    "keyboard = Controller()\n",
    "\n",
    "BUTTON = ('punch', 'kick', 'up')\n",
    "JOYSTICK = ('left', 'right', 'down')\n",
    "\n",
    "keys_dict = {\n",
    "    'punch': 'j',\n",
    "    'kick': 'k',\n",
    "    'left': 'a',\n",
    "    'right': 'd',\n",
    "    'up': 'w',\n",
    "    'down': 's',\n",
    "#     'stand': '.'\n",
    "}\n",
    "\n",
    "key_pressed = []\n",
    "last_text = ''\n",
    "\n",
    "import time\n",
    "\n",
    "def action(text):\n",
    "    global last_text\n",
    "    if text == last_text:\n",
    "        return\n",
    "    last_text = text\n",
    "    \n",
    "    if text in BUTTON:\n",
    "        key = keys_dict.get(text)\n",
    "        keyboard.press(key)\n",
    "        print('===========short pressed', key)\n",
    "        time.sleep(0.15)\n",
    "        keyboard.release(key)\n",
    "    elif text in JOYSTICK:\n",
    "        key = keys_dict.get(text)\n",
    "        if key not in key_pressed:\n",
    "            for k in key_pressed:\n",
    "                try:\n",
    "                    keyboard.release(k)\n",
    "                except:\n",
    "                    pass\n",
    "            key_pressed.clear()\n",
    "            keyboard.press(key)\n",
    "            print('============long pressed', key)\n",
    "            key_pressed.append(key)\n",
    "    elif text == 'act':\n",
    "        print('===========do action!')\n",
    "        keyboard.press('d')\n",
    "        time.sleep(0.05)\n",
    "        keyboard.press('s')\n",
    "        time.sleep(0.05)\n",
    "        keyboard.release('d')\n",
    "        keyboard.press('a')\n",
    "        time.sleep(0.05)\n",
    "        keyboard.release('s')\n",
    "        time.sleep(0.05)\n",
    "        keyboard.release('a')\n",
    "        keyboard.press('j')\n",
    "        time.sleep(0.05)\n",
    "        keyboard.release('j')\n",
    "    else:\n",
    "        for k in key_pressed:\n",
    "            try:\n",
    "                keyboard.release(k)\n",
    "            except:\n",
    "                pass\n",
    "        key_pressed.clear()\n",
    "#     if key_pressed:\n",
    "#         print(key_pressed)"
   ]
  },
  {
   "cell_type": "code",
   "execution_count": null,
   "metadata": {},
   "outputs": [],
   "source": []
  },
  {
   "cell_type": "code",
   "execution_count": 14,
   "metadata": {},
   "outputs": [],
   "source": [
    "def execute(change):\n",
    "    image = change['new']\n",
    "    data = preprocess(image)\n",
    "    cmap, paf = model_trt(data)\n",
    "    cmap, paf = cmap.detach().cpu(), paf.detach().cpu()\n",
    "    counts, objects, peaks = parse_objects(cmap, paf)\n",
    "    joints = preprocessdata.joints_inference(image, counts, objects, peaks)\n",
    "    draw_joints(image, joints)\n",
    "    #draw_objects(image, counts, objects, peaks)\n",
    "    dist_bn_joints = preprocessdata.find_distance(joints)\n",
    "    gesture = clf.predict([dist_bn_joints,[0]*num_parts*num_parts])\n",
    "    gesture_joints = gesture[0]\n",
    "    preprocessdata.prev_queue.append(gesture_joints)\n",
    "    preprocessdata.prev_queue.pop(0)\n",
    "    _, text = preprocessdata.print_label(image, preprocessdata.prev_queue, gesture_type)\n",
    "    action(text)  # send key event\n",
    "    image_w.value = bgr8_to_jpeg(image)\n",
    "    \n",
    "#     if text:\n",
    "#         print(text)\n",
    "    \n"
   ]
  },
  {
   "cell_type": "code",
   "execution_count": 15,
   "metadata": {},
   "outputs": [],
   "source": [
    "execute({'new': camera.value})"
   ]
  },
  {
   "cell_type": "code",
   "execution_count": 16,
   "metadata": {
    "scrolled": true
   },
   "outputs": [],
   "source": [
    "camera.observe(execute, names='value')"
   ]
  },
  {
   "cell_type": "code",
   "execution_count": null,
   "metadata": {},
   "outputs": [],
   "source": []
  },
  {
   "cell_type": "code",
   "execution_count": null,
   "metadata": {},
   "outputs": [],
   "source": []
  },
  {
   "cell_type": "code",
   "execution_count": null,
   "metadata": {},
   "outputs": [],
   "source": []
  },
  {
   "cell_type": "code",
   "execution_count": null,
   "metadata": {},
   "outputs": [],
   "source": []
  },
  {
   "cell_type": "code",
   "execution_count": null,
   "metadata": {},
   "outputs": [],
   "source": []
  },
  {
   "cell_type": "code",
   "execution_count": null,
   "metadata": {},
   "outputs": [],
   "source": []
  },
  {
   "cell_type": "code",
   "execution_count": null,
   "metadata": {},
   "outputs": [],
   "source": []
  },
  {
   "cell_type": "code",
   "execution_count": null,
   "metadata": {},
   "outputs": [],
   "source": []
  },
  {
   "cell_type": "code",
   "execution_count": null,
   "metadata": {},
   "outputs": [],
   "source": []
  },
  {
   "cell_type": "code",
   "execution_count": null,
   "metadata": {},
   "outputs": [],
   "source": []
  },
  {
   "cell_type": "code",
   "execution_count": null,
   "metadata": {},
   "outputs": [],
   "source": []
  },
  {
   "cell_type": "code",
   "execution_count": null,
   "metadata": {},
   "outputs": [],
   "source": []
  },
  {
   "cell_type": "code",
   "execution_count": null,
   "metadata": {},
   "outputs": [],
   "source": []
  },
  {
   "cell_type": "code",
   "execution_count": 17,
   "metadata": {},
   "outputs": [],
   "source": [
    "# camera.unobserve_all()"
   ]
  },
  {
   "cell_type": "code",
   "execution_count": 18,
   "metadata": {},
   "outputs": [
    {
     "name": "stdout",
     "output_type": "stream",
     "text": [
      "============long pressed a\n",
      "============long pressed a\n",
      "===========short pressed j\n",
      "===========short pressed j\n",
      "===========short pressed k\n",
      "===========short pressed j\n",
      "===========do action!\n",
      "===========do action!\n",
      "============long pressed a\n",
      "============long pressed a\n",
      "============long pressed a\n",
      "============long pressed a\n",
      "============long pressed a\n",
      "============long pressed a\n",
      "============long pressed s\n",
      "============long pressed a\n",
      "============long pressed s\n",
      "============long pressed a\n",
      "============long pressed s\n",
      "============long pressed a\n",
      "============long pressed a\n",
      "============long pressed a\n",
      "============long pressed s\n",
      "============long pressed a\n",
      "===========do action!\n",
      "============long pressed a\n",
      "============long pressed a\n",
      "===========short pressed j\n",
      "============long pressed a\n",
      "============long pressed d\n",
      "============long pressed a\n",
      "===========do action!\n",
      "============long pressed a\n",
      "===========do action!\n",
      "===========short pressed k\n",
      "============long pressed a\n",
      "============long pressed a\n",
      "============long pressed a\n",
      "============long pressed a\n",
      "============long pressed s\n",
      "============long pressed a\n",
      "============long pressed s\n",
      "===========do action!\n",
      "============long pressed a\n",
      "===========do action!\n",
      "============long pressed a\n",
      "============long pressed d\n",
      "============long pressed a\n",
      "===========short pressed w\n",
      "============long pressed d\n",
      "===========short pressed w\n",
      "============long pressed s\n",
      "===========short pressed w\n",
      "============long pressed a\n",
      "============long pressed d\n",
      "============long pressed a\n",
      "============long pressed d\n",
      "============long pressed a\n",
      "============long pressed s\n",
      "============long pressed a\n",
      "============long pressed s\n",
      "============long pressed a\n",
      "============long pressed s\n",
      "============long pressed a\n",
      "============long pressed s\n",
      "============long pressed s\n",
      "============long pressed a\n",
      "============long pressed s\n",
      "============long pressed a\n",
      "============long pressed s\n",
      "============long pressed a\n",
      "============long pressed s\n",
      "============long pressed a\n",
      "============long pressed s\n",
      "============long pressed a\n",
      "============long pressed a\n",
      "============long pressed a\n",
      "===========short pressed j\n",
      "============long pressed a\n",
      "============long pressed a\n",
      "============long pressed a\n",
      "============long pressed a\n",
      "============long pressed a\n",
      "============long pressed a\n",
      "============long pressed a\n",
      "============long pressed s\n",
      "============long pressed d\n",
      "===========short pressed j\n",
      "===========short pressed j\n",
      "===========short pressed j\n",
      "============long pressed d\n",
      "============long pressed a\n",
      "===========short pressed w\n",
      "============long pressed s\n",
      "===========short pressed j\n",
      "===========short pressed j\n",
      "===========short pressed k\n",
      "===========short pressed k\n",
      "===========do action!\n",
      "============long pressed a\n",
      "===========short pressed w\n",
      "===========do action!\n",
      "============long pressed a\n",
      "============long pressed d\n",
      "============long pressed a\n",
      "===========short pressed w\n",
      "============long pressed d\n",
      "============long pressed a\n",
      "===========short pressed w\n",
      "============long pressed d\n",
      "============long pressed a\n",
      "============long pressed d\n",
      "============long pressed a\n",
      "===========short pressed w\n",
      "============long pressed d\n",
      "===========short pressed w\n",
      "============long pressed a\n",
      "===========do action!\n",
      "===========do action!\n",
      "============long pressed a\n",
      "===========do action!\n",
      "===========do action!\n",
      "============long pressed a\n",
      "===========do action!\n",
      "===========do action!\n",
      "============long pressed s\n",
      "============long pressed a\n",
      "============long pressed a\n",
      "============long pressed s\n",
      "============long pressed a\n",
      "============long pressed a\n",
      "============long pressed d\n",
      "============long pressed a\n",
      "===========short pressed w\n",
      "============long pressed s\n",
      "============long pressed a\n",
      "===========short pressed j\n",
      "============long pressed a\n",
      "============long pressed a\n",
      "===========short pressed j\n",
      "============long pressed a\n",
      "============long pressed a\n",
      "===========short pressed j\n",
      "============long pressed a\n",
      "===========short pressed j\n",
      "============long pressed a\n",
      "===========short pressed j\n",
      "===========short pressed k\n",
      "===========short pressed j\n",
      "===========short pressed k\n",
      "===========short pressed j\n",
      "===========short pressed k\n",
      "============long pressed s\n",
      "===========do action!\n",
      "============long pressed a\n",
      "============long pressed a\n",
      "===========do action!\n",
      "============long pressed d\n",
      "============long pressed a\n",
      "===========do action!\n",
      "===========do action!\n",
      "============long pressed a\n",
      "===========do action!\n",
      "===========do action!\n",
      "===========do action!\n",
      "===========short pressed j\n",
      "===========short pressed k\n",
      "===========short pressed j\n",
      "===========short pressed w\n",
      "============long pressed a\n",
      "===========short pressed w\n",
      "===========short pressed j\n",
      "============long pressed d\n",
      "============long pressed a\n",
      "===========short pressed w\n",
      "============long pressed s\n",
      "============long pressed a\n",
      "===========short pressed j\n",
      "============long pressed a\n",
      "===========short pressed j\n",
      "===========short pressed k\n",
      "===========short pressed k\n",
      "===========short pressed j\n",
      "===========do action!\n",
      "===========do action!\n",
      "============long pressed a\n",
      "============long pressed s\n",
      "============long pressed a\n",
      "============long pressed a\n"
     ]
    }
   ],
   "source": [
    "# camera.running = False"
   ]
  },
  {
   "cell_type": "code",
   "execution_count": null,
   "metadata": {},
   "outputs": [],
   "source": []
  },
  {
   "cell_type": "code",
   "execution_count": null,
   "metadata": {},
   "outputs": [],
   "source": []
  },
  {
   "cell_type": "code",
   "execution_count": null,
   "metadata": {},
   "outputs": [],
   "source": []
  },
  {
   "cell_type": "code",
   "execution_count": null,
   "metadata": {},
   "outputs": [],
   "source": []
  },
  {
   "cell_type": "code",
   "execution_count": null,
   "metadata": {},
   "outputs": [],
   "source": []
  },
  {
   "cell_type": "code",
   "execution_count": null,
   "metadata": {},
   "outputs": [],
   "source": []
  },
  {
   "cell_type": "code",
   "execution_count": null,
   "metadata": {},
   "outputs": [],
   "source": []
  },
  {
   "cell_type": "code",
   "execution_count": null,
   "metadata": {},
   "outputs": [],
   "source": []
  },
  {
   "cell_type": "code",
   "execution_count": null,
   "metadata": {},
   "outputs": [],
   "source": []
  },
  {
   "cell_type": "code",
   "execution_count": null,
   "metadata": {},
   "outputs": [],
   "source": []
  },
  {
   "cell_type": "code",
   "execution_count": null,
   "metadata": {},
   "outputs": [],
   "source": []
  },
  {
   "cell_type": "code",
   "execution_count": null,
   "metadata": {},
   "outputs": [],
   "source": []
  },
  {
   "cell_type": "code",
   "execution_count": null,
   "metadata": {},
   "outputs": [],
   "source": []
  }
 ],
 "metadata": {
  "kernelspec": {
   "display_name": "Python 3 (ipykernel)",
   "language": "python",
   "name": "python3"
  },
  "language_info": {
   "codemirror_mode": {
    "name": "ipython",
    "version": 3
   },
   "file_extension": ".py",
   "mimetype": "text/x-python",
   "name": "python",
   "nbconvert_exporter": "python",
   "pygments_lexer": "ipython3",
   "version": "3.8.10"
  }
 },
 "nbformat": 4,
 "nbformat_minor": 4
}
